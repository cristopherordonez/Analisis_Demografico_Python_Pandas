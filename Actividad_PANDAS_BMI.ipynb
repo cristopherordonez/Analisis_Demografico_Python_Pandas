{
 "cells": [
  {
   "cell_type": "markdown",
   "id": "dfe2db8f",
   "metadata": {},
   "source": [
    "# 🧩 Actividad práctica: Pandas – Análisis del dataset de personas en Ecuador"
   ]
  },
  {
   "cell_type": "markdown",
   "id": "c46899da",
   "metadata": {},
   "source": [
    "### **1️⃣ Leer el dataset**\n",
    "Carga el archivo `personas_ecuador.csv` utilizando `pd.read_csv()`. 💡 **Tip:** recuerda verificar que el dataset se haya cargado correctamente."
   ]
  },
  {
   "cell_type": "code",
   "execution_count": 7,
   "id": "5abddd01",
   "metadata": {},
   "outputs": [],
   "source": [
    "import pandas as pd"
   ]
  },
  {
   "cell_type": "code",
   "execution_count": null,
   "id": "f2869786",
   "metadata": {},
   "outputs": [],
   "source": [
    "!pip install pandas"
   ]
  },
  {
   "cell_type": "code",
   "execution_count": 11,
   "id": "bad999d6",
   "metadata": {},
   "outputs": [
    {
     "data": {
      "text/html": [
       "<div>\n",
       "<style scoped>\n",
       "    .dataframe tbody tr th:only-of-type {\n",
       "        vertical-align: middle;\n",
       "    }\n",
       "\n",
       "    .dataframe tbody tr th {\n",
       "        vertical-align: top;\n",
       "    }\n",
       "\n",
       "    .dataframe thead th {\n",
       "        text-align: right;\n",
       "    }\n",
       "</style>\n",
       "<table border=\"1\" class=\"dataframe\">\n",
       "  <thead>\n",
       "    <tr style=\"text-align: right;\">\n",
       "      <th></th>\n",
       "      <th>id_persona</th>\n",
       "      <th>numero_cedula</th>\n",
       "      <th>nombre</th>\n",
       "      <th>apellido</th>\n",
       "      <th>peso</th>\n",
       "      <th>altura</th>\n",
       "      <th>sexo</th>\n",
       "      <th>edad</th>\n",
       "      <th>ciudad</th>\n",
       "    </tr>\n",
       "  </thead>\n",
       "  <tbody>\n",
       "    <tr>\n",
       "      <th>0</th>\n",
       "      <td>1</td>\n",
       "      <td>991946723</td>\n",
       "      <td>Camila</td>\n",
       "      <td>Ramírez</td>\n",
       "      <td>65.4</td>\n",
       "      <td>1.72</td>\n",
       "      <td>M</td>\n",
       "      <td>32</td>\n",
       "      <td>Guayaquil</td>\n",
       "    </tr>\n",
       "    <tr>\n",
       "      <th>1</th>\n",
       "      <td>2</td>\n",
       "      <td>176600841</td>\n",
       "      <td>Ana</td>\n",
       "      <td>Herrera</td>\n",
       "      <td>68.0</td>\n",
       "      <td>1.46</td>\n",
       "      <td>F</td>\n",
       "      <td>27</td>\n",
       "      <td>Cuenca</td>\n",
       "    </tr>\n",
       "    <tr>\n",
       "      <th>2</th>\n",
       "      <td>3</td>\n",
       "      <td>1717009159</td>\n",
       "      <td>Camila</td>\n",
       "      <td>Cedeño</td>\n",
       "      <td>94.5</td>\n",
       "      <td>1.66</td>\n",
       "      <td>M</td>\n",
       "      <td>42</td>\n",
       "      <td>Quito</td>\n",
       "    </tr>\n",
       "    <tr>\n",
       "      <th>3</th>\n",
       "      <td>4</td>\n",
       "      <td>113406285</td>\n",
       "      <td>José</td>\n",
       "      <td>Ramírez</td>\n",
       "      <td>69.4</td>\n",
       "      <td>1.45</td>\n",
       "      <td>F</td>\n",
       "      <td>32</td>\n",
       "      <td>Cuenca</td>\n",
       "    </tr>\n",
       "    <tr>\n",
       "      <th>4</th>\n",
       "      <td>5</td>\n",
       "      <td>1787050581</td>\n",
       "      <td>María</td>\n",
       "      <td>Herrera</td>\n",
       "      <td>83.5</td>\n",
       "      <td>1.70</td>\n",
       "      <td>M</td>\n",
       "      <td>20</td>\n",
       "      <td>Quito</td>\n",
       "    </tr>\n",
       "  </tbody>\n",
       "</table>\n",
       "</div>"
      ],
      "text/plain": [
       "   id_persona  numero_cedula  nombre apellido  peso  altura sexo  edad  \\\n",
       "0           1      991946723  Camila  Ramírez  65.4    1.72    M    32   \n",
       "1           2      176600841     Ana  Herrera  68.0    1.46    F    27   \n",
       "2           3     1717009159  Camila   Cedeño  94.5    1.66    M    42   \n",
       "3           4      113406285    José  Ramírez  69.4    1.45    F    32   \n",
       "4           5     1787050581   María  Herrera  83.5    1.70    M    20   \n",
       "\n",
       "      ciudad  \n",
       "0  Guayaquil  \n",
       "1     Cuenca  \n",
       "2      Quito  \n",
       "3     Cuenca  \n",
       "4      Quito  "
      ]
     },
     "execution_count": 11,
     "metadata": {},
     "output_type": "execute_result"
    }
   ],
   "source": [
    "# Tu código aquí 👇\n",
    "df= pd.read_csv('bmi_personas.csv', sep='|')\n",
    "df.head()"
   ]
  },
  {
   "cell_type": "markdown",
   "id": "d7714535",
   "metadata": {},
   "source": [
    "### **2️⃣ Seleccionar filas específicas con `iloc`**\n",
    "Usando `.iloc`, selecciona las **primeras 5 filas** del dataset."
   ]
  },
  {
   "cell_type": "code",
   "execution_count": 15,
   "id": "1c02bf8e",
   "metadata": {},
   "outputs": [
    {
     "name": "stdout",
     "output_type": "stream",
     "text": [
      "   id_persona  numero_cedula  nombre apellido  peso  altura sexo  edad  \\\n",
      "0           1      991946723  Camila  Ramírez  65.4    1.72    M    32   \n",
      "1           2      176600841     Ana  Herrera  68.0    1.46    F    27   \n",
      "2           3     1717009159  Camila   Cedeño  94.5    1.66    M    42   \n",
      "3           4      113406285    José  Ramírez  69.4    1.45    F    32   \n",
      "4           5     1787050581   María  Herrera  83.5    1.70    M    20   \n",
      "\n",
      "      ciudad  \n",
      "0  Guayaquil  \n",
      "1     Cuenca  \n",
      "2      Quito  \n",
      "3     Cuenca  \n",
      "4      Quito  \n"
     ]
    }
   ],
   "source": [
    "# Tu código aquí 👇\n",
    "primeras_5_iloc = df.iloc[0:5]\n",
    "print(primeras_5_iloc)\n"
   ]
  },
  {
   "cell_type": "markdown",
   "id": "1cfafa3f",
   "metadata": {},
   "source": [
    "### **3️⃣ Seleccionar columnas con `iloc`**\n",
    "Usando `.iloc`, selecciona únicamente las columnas **nombre, apellido y ciudad**."
   ]
  },
  {
   "cell_type": "code",
   "execution_count": 17,
   "id": "46fa80ab",
   "metadata": {},
   "outputs": [
    {
     "name": "stdout",
     "output_type": "stream",
     "text": [
      "   nombre apellido\n",
      "0  Camila  Ramírez\n",
      "1     Ana  Herrera\n",
      "2  Camila   Cedeño\n",
      "3    José  Ramírez\n",
      "4   María  Herrera\n"
     ]
    }
   ],
   "source": [
    "# Tu código aquí 👇\n",
    "columnas_loc = df.loc[:, 'nombre':'apellido']\n",
    "print(columnas_loc.head(5))"
   ]
  },
  {
   "cell_type": "markdown",
   "id": "c40b14c2",
   "metadata": {},
   "source": [
    "### **4️⃣ Seleccionar filas y columnas específicas con `loc`**\n",
    "Usa `.loc` para mostrar las **filas de las personas de Guayaquil** pero solo con las columnas **nombre, edad y ciudad**."
   ]
  },
  {
   "cell_type": "code",
   "execution_count": 21,
   "id": "29711f0a",
   "metadata": {},
   "outputs": [
    {
     "name": "stdout",
     "output_type": "stream",
     "text": [
      "    nombre  edad     ciudad\n",
      "0   Camila    32  Guayaquil\n",
      "6    Pedro    30  Guayaquil\n",
      "9    Sofía    32  Guayaquil\n",
      "10  Carlos    46  Guayaquil\n",
      "11   Pedro    33  Guayaquil\n",
      "\n",
      "Total de personas de Guayaquil en el filtro: 4300\n"
     ]
    }
   ],
   "source": [
    "# Tu código aquí 👇\n",
    "filtro_loc_guayaquil = df.loc[df['ciudad'] == 'Guayaquil', ['nombre', 'edad', 'ciudad']]\n",
    "print(filtro_loc_guayaquil.head())\n",
    "print(f\"\\nTotal de personas de Guayaquil en el filtro: {len(filtro_loc_guayaquil)}\")"
   ]
  },
  {
   "cell_type": "markdown",
   "id": "2897a672",
   "metadata": {},
   "source": [
    "### **5️⃣ Crear una nueva columna con altura en centímetros**\n",
    "La columna `altura` está en metros. Crea una nueva columna llamada `altura_cm` que convierta ese valor a centímetros."
   ]
  },
  {
   "cell_type": "code",
   "execution_count": 25,
   "id": "8acee411",
   "metadata": {},
   "outputs": [
    {
     "name": "stdout",
     "output_type": "stream",
     "text": [
      "   altura  altura_cm\n",
      "0    1.72      172.0\n",
      "1    1.46      146.0\n",
      "2    1.66      166.0\n",
      "3    1.45      145.0\n",
      "4    1.70      170.0\n"
     ]
    }
   ],
   "source": [
    "# Tu código aquí 👇\n",
    "df['altura_cm'] = df['altura'] * 100\n",
    "print(df[['altura', 'altura_cm']].head())"
   ]
  },
  {
   "cell_type": "markdown",
   "id": "89a52b27",
   "metadata": {},
   "source": [
    "### **6️⃣ Peso promedio del dataset**\n",
    "Calcula el **peso promedio** de todas las personas del dataset."
   ]
  },
  {
   "cell_type": "code",
   "execution_count": 27,
   "id": "b36944e6",
   "metadata": {},
   "outputs": [
    {
     "name": "stdout",
     "output_type": "stream",
     "text": [
      "El peso promedio de todas las personas en el dataset es: 71.53 kg\n"
     ]
    }
   ],
   "source": [
    "# Tu código aquí 👇\n",
    "peso_promedio_total = df['peso'].mean()\n",
    "print(f\"El peso promedio de todas las personas en el dataset es: {peso_promedio_total:.2f} kg\")"
   ]
  },
  {
   "cell_type": "markdown",
   "id": "4338e6fd",
   "metadata": {},
   "source": [
    "### **7️⃣ Edad promedio**\n",
    "Calcula la **edad promedio** de las personas del dataset."
   ]
  },
  {
   "cell_type": "code",
   "execution_count": 28,
   "id": "83cd7d86",
   "metadata": {},
   "outputs": [
    {
     "name": "stdout",
     "output_type": "stream",
     "text": [
      "La edad promedio de todas las personas en el dataset es: 34.02 años\n"
     ]
    }
   ],
   "source": [
    "# Tu código aquí 👇\n",
    "edad_promedio_total = df['edad'].mean()\n",
    "print(f\"La edad promedio de todas las personas en el dataset es: {edad_promedio_total:.2f} años\")"
   ]
  },
  {
   "cell_type": "markdown",
   "id": "96852a17",
   "metadata": {},
   "source": [
    "### **8️⃣ Cuántas ciudades hay en el dataset**\n",
    "Muestra cuántas ciudades diferentes existen en la columna `ciudad`."
   ]
  },
  {
   "cell_type": "code",
   "execution_count": 29,
   "id": "901f0bad",
   "metadata": {},
   "outputs": [
    {
     "name": "stdout",
     "output_type": "stream",
     "text": [
      "El número total de ciudades diferentes en el dataset es: 3\n"
     ]
    }
   ],
   "source": [
    "# Tu código aquí 👇\n",
    "numero_ciudades = df['ciudad'].nunique()\n",
    "print(f\"El número total de ciudades diferentes en el dataset es: {numero_ciudades}\")"
   ]
  },
  {
   "cell_type": "markdown",
   "id": "abfec131",
   "metadata": {},
   "source": [
    "### **9️⃣ Porcentaje de personas por ciudad**\n",
    "Calcula qué porcentaje de personas pertenece a **Guayaquil, Quito y Cuenca**."
   ]
  },
  {
   "cell_type": "code",
   "execution_count": 34,
   "id": "5312382a",
   "metadata": {},
   "outputs": [
    {
     "name": "stdout",
     "output_type": "stream",
     "text": [
      "ciudad\n",
      "Guayaquil    43.0\n",
      "Quito        35.0\n",
      "Cuenca       22.0\n",
      "Name: proportion, dtype: float64\n"
     ]
    }
   ],
   "source": [
    "# Tu código aquí 👇\n",
    "porcentaje_ciudades = df['ciudad'].value_counts(normalize=True) * 100\n",
    "print(porcentaje_ciudades.round(2))"
   ]
  },
  {
   "cell_type": "markdown",
   "id": "68a14681",
   "metadata": {},
   "source": [
    "### **🔟 Edad mínima y máxima**\n",
    "Encuentra la **edad mínima y máxima** del dataset."
   ]
  },
  {
   "cell_type": "code",
   "execution_count": 35,
   "id": "943ca6e7",
   "metadata": {},
   "outputs": [
    {
     "name": "stdout",
     "output_type": "stream",
     "text": [
      "Edad mínima en el dataset: 18 años\n",
      "Edad máxima en el dataset: 50 años\n"
     ]
    }
   ],
   "source": [
    "# Tu código aquí 👇\n",
    "edad_minima = df['edad'].min()\n",
    "edad_maxima = df['edad'].max()\n",
    "print(f\"Edad mínima en el dataset: {edad_minima} años\")\n",
    "print(f\"Edad máxima en el dataset: {edad_maxima} años\")"
   ]
  },
  {
   "cell_type": "markdown",
   "id": "bafb9a81",
   "metadata": {},
   "source": [
    "### **11️⃣ Hombres con altura mayor al promedio**\n",
    "Calcula cuántos **hombres** tienen una **altura mayor al promedio general**."
   ]
  },
  {
   "cell_type": "code",
   "execution_count": 38,
   "id": "5f34066b",
   "metadata": {},
   "outputs": [
    {
     "name": "stdout",
     "output_type": "stream",
     "text": [
      "Promedio general de altura: 1.686 metros\n",
      "El número de hombres con altura mayor al promedio general es: 3947\n"
     ]
    }
   ],
   "source": [
    "# Tu código aquí 👇\n",
    "promedio_altura_general = df['altura'].mean()\n",
    "print(f\"Promedio general de altura: {promedio_altura_general:.3f} metros\")\n",
    "\n",
    "condicion_hombres = df['sexo'] == 'M'\n",
    "condicion_altura_mayor = df['altura'] > promedio_altura_general\n",
    "\n",
    "hombres_altos = df[condicion_hombres & condicion_altura_mayor]\n",
    "numero_hombres_altos = len(hombres_altos)\n",
    "\n",
    "print(f\"El número de hombres con altura mayor al promedio general es: {numero_hombres_altos}\")\n"
   ]
  },
  {
   "cell_type": "markdown",
   "id": "ff11aa7a",
   "metadata": {},
   "source": [
    "### **12️⃣ Calcular el BMI (Índice de Masa Corporal)**\n",
    "Agrega una nueva columna que calcule el BMI.\n",
    "💡 Fórmula:  \n",
    "$BMI = \\frac{peso}{altura^2}$"
   ]
  },
  {
   "cell_type": "code",
   "execution_count": 40,
   "id": "04a73d6b",
   "metadata": {},
   "outputs": [
    {
     "name": "stdout",
     "output_type": "stream",
     "text": [
      "   peso  altura        BMI\n",
      "0  65.4    1.72  22.106544\n",
      "1  68.0    1.46  31.900919\n",
      "2  94.5    1.66  34.293802\n",
      "3  69.4    1.45  33.008323\n",
      "4  83.5    1.70  28.892734\n"
     ]
    }
   ],
   "source": [
    "# Tu código aquí 👇\n",
    "df['BMI'] = df['peso'] / (df['altura'] ** 2)\n",
    "print(df[['peso', 'altura', 'BMI']].head())"
   ]
  },
  {
   "cell_type": "markdown",
   "id": "6940746a",
   "metadata": {},
   "source": [
    "### **13️⃣ Crear columna booleana de sobrepeso**\n",
    "Crea una columna llamada `tiene_sobrepeso` que sea **True** si el BMI es mayor o igual a 25, y **False** si no lo es."
   ]
  },
  {
   "cell_type": "code",
   "execution_count": 42,
   "id": "74abc905",
   "metadata": {},
   "outputs": [
    {
     "name": "stdout",
     "output_type": "stream",
     "text": [
      "         BMI  tiene_sobrepeso\n",
      "0  22.106544            False\n",
      "1  31.900919             True\n",
      "2  34.293802             True\n",
      "3  33.008323             True\n",
      "4  28.892734             True\n"
     ]
    }
   ],
   "source": [
    "# Tu código aquí 👇\n",
    "df['tiene_sobrepeso'] = df['BMI'] >= 25\n",
    "print(df[['BMI', 'tiene_sobrepeso']].head())\n"
   ]
  },
  {
   "cell_type": "markdown",
   "id": "b5fc6ac5",
   "metadata": {},
   "source": [
    "### **14️⃣ Porcentaje de personas con sobrepeso en Guayaquil**\n",
    "De las personas que tienen sobrepeso (`tiene_sobrepeso == True`), calcula **qué porcentaje vive en Guayaquil**."
   ]
  },
  {
   "cell_type": "code",
   "execution_count": 43,
   "id": "48dc0037",
   "metadata": {},
   "outputs": [
    {
     "name": "stdout",
     "output_type": "stream",
     "text": [
      "Total de personas con sobrepeso (Universo): 5011\n",
      "Personas con sobrepeso que viven en Guayaquil: 2152\n",
      "\n",
      "El porcentaje de personas con sobrepeso que vive en Guayaquil es: 42.95%\n"
     ]
    }
   ],
   "source": [
    "# Tu código aquí 👇\n",
    "personas_sobrepeso = df[df['tiene_sobrepeso'] == True]\n",
    "\n",
    "sobrepeso_en_guayaquil = personas_sobrepeso[personas_sobrepeso['ciudad'] == 'Guayaquil'].shape[0]\n",
    "\n",
    "total_personas_sobrepeso = personas_sobrepeso.shape[0]\n",
    "\n",
    "porcentaje_sobrepeso_guayaquil = (sobrepeso_en_guayaquil / total_personas_sobrepeso) * 100\n",
    "\n",
    "print(f\"Total de personas con sobrepeso (Universo): {total_personas_sobrepeso}\")\n",
    "print(f\"Personas con sobrepeso que viven en Guayaquil: {sobrepeso_en_guayaquil}\")\n",
    "print(f\"\\nEl porcentaje de personas con sobrepeso que vive en Guayaquil es: {porcentaje_sobrepeso_guayaquil:.2f}%\")"
   ]
  },
  {
   "cell_type": "markdown",
   "id": "d710f56b",
   "metadata": {},
   "source": [
    "### **15️⃣ Diferencia entre la altura promedio de hombres y mujeres**\n",
    "Calcula la diferencia en **altura promedio** entre hombres y mujeres."
   ]
  },
  {
   "cell_type": "code",
   "execution_count": 44,
   "id": "0b9a5754",
   "metadata": {},
   "outputs": [
    {
     "name": "stdout",
     "output_type": "stream",
     "text": [
      "Altura promedio por sexo:\n",
      "sexo\n",
      "F    1.621\n",
      "M    1.752\n",
      "Name: altura, dtype: float64\n",
      "\n",
      "Diferencia de altura promedio (Hombres - Mujeres): 0.131 metros\n"
     ]
    }
   ],
   "source": [
    "# Tu código aquí 👇\n",
    "altura_promedio_por_sexo = df.groupby('sexo')['altura'].mean()\n",
    "altura_hombres = altura_promedio_por_sexo.loc['M']\n",
    "altura_mujeres = altura_promedio_por_sexo.loc['F']\n",
    "diferencia_altura = altura_hombres - altura_mujeres\n",
    "\n",
    "print(\"Altura promedio por sexo:\")\n",
    "print(altura_promedio_por_sexo.round(3))\n",
    "print(f\"\\nDiferencia de altura promedio (Hombres - Mujeres): {diferencia_altura:.3f} metros\")\n"
   ]
  },
  {
   "cell_type": "markdown",
   "id": "a59b4d17",
   "metadata": {},
   "source": [
    "### **16️⃣ Promedio de edad de las personas con sobrepeso**\n",
    "Calcula el **promedio de edad** solo de las personas con sobrepeso."
   ]
  },
  {
   "cell_type": "code",
   "execution_count": 45,
   "id": "564d4026",
   "metadata": {},
   "outputs": [
    {
     "name": "stdout",
     "output_type": "stream",
     "text": [
      "El promedio de edad de las personas con sobrepeso es: 33.85 años\n"
     ]
    }
   ],
   "source": [
    "# Tu código aquí 👇\n",
    "df_sobrepeso = df[df['tiene_sobrepeso'] == True]\n",
    "promedio_edad_sobrepeso = df_sobrepeso['edad'].mean()\n",
    "print(f\"El promedio de edad de las personas con sobrepeso es: {promedio_edad_sobrepeso:.2f} años\")"
   ]
  }
 ],
 "metadata": {
  "kernelspec": {
   "display_name": "Python 3",
   "language": "python",
   "name": "python3"
  },
  "language_info": {
   "codemirror_mode": {
    "name": "ipython",
    "version": 3
   },
   "file_extension": ".py",
   "mimetype": "text/x-python",
   "name": "python",
   "nbconvert_exporter": "python",
   "pygments_lexer": "ipython3",
   "version": "3.13.7"
  }
 },
 "nbformat": 4,
 "nbformat_minor": 5
}
